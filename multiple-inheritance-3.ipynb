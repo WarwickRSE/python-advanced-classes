{
 "cells": [
  {
   "cell_type": "markdown",
   "metadata": {},
   "source": [
    "# Using other code.\n",
    "\n",
    "Thus far we have had `SomeOtherClass` being poorly written but because it's not _that_ bad we can work with it.\n",
    "\n",
    "Lets consider a case where our inherited class that isn't from the classes we are writing is going to do some things we would find irritating and work around them (and consider the implications of doing so)."
   ]
  },
  {
   "cell_type": "code",
   "execution_count": 1,
   "metadata": {},
   "outputs": [],
   "source": [
    "from helpers import MIBase\n",
    "# MI base is a base class with an __init__/super that handles *args and **kwargs correctly but does nothing else."
   ]
  },
  {
   "cell_type": "code",
   "execution_count": 2,
   "metadata": {},
   "outputs": [],
   "source": [
    "# We will assume this is a class we cannot change i.e. it came from another package\n",
    "class VeryIrritatingClass(object):\n",
    "    \"\"\"\n",
    "    We are going to write a class that is correct as in the init is proper\n",
    "    But its going to have things we want e.g. really useful method\n",
    "    But also things we dont.\n",
    "    \"\"\"\n",
    "    def __init__(self, A, *args, **kwargs):\n",
    "        print(\"Entering VeryIrritatingClass.__init__\")\n",
    "        self._value = 0\n",
    "        self._a = A\n",
    "        super().__init__(*args, **kwargs)\n",
    "        print(\"Exiting VeryIrritatingClass.__init__\")\n",
    "\n",
    "    def really_useful_method(self, B):\n",
    "        return self._a + B"
   ]
  },
  {
   "cell_type": "code",
   "execution_count": 28,
   "metadata": {},
   "outputs": [
    {
     "name": "stdout",
     "output_type": "stream",
     "text": [
      "Entering ChildB.__init__\n",
      "Entering ChildA.__init__\n",
      "Enter MIBase.__init__\n",
      "Entering VeryIrritatingClass.__init__\n",
      "Exiting VeryIrritatingClass.__init__\n",
      "Exit MIBase.__init__\n",
      "Exiting ChildA.__init__\n",
      "Exiting ChildB.__init__\n",
      "3\n",
      "2\n"
     ]
    }
   ],
   "source": [
    "class ChildA(MIBase):\n",
    "    def __init__(self, A, *args, **kwargs):\n",
    "        print(\"Entering ChildA.__init__\")\n",
    "        self.a = A\n",
    "        super().__init__(*args, **kwargs)\n",
    "        print(\"Exiting ChildA.__init__\")\n",
    "    \n",
    "    def method_that_uses_A(self):\n",
    "        return self.a\n",
    "\n",
    "class ChildB(ChildA, VeryIrritatingClass):\n",
    "    def __init__(self, A, *args, **kwargs):\n",
    "        print(\"Entering ChildB.__init__\")\n",
    "        super().__init__(A, *args, **kwargs)\n",
    "        print(\"Exiting ChildB.__init__\")\n",
    "    def modified_useful_method(self, B):\n",
    "        B = B + 1\n",
    "        return self.really_useful_method(B)\n",
    "    \n",
    "my_instance = ChildB(1, 1)\n",
    "print(my_instance.modified_useful_method(1))\n",
    "print(my_instance.really_useful_method(1))\n"
   ]
  },
  {
   "cell_type": "markdown",
   "metadata": {},
   "source": [
    "Great that works but what if:"
   ]
  },
  {
   "cell_type": "code",
   "execution_count": 4,
   "metadata": {},
   "outputs": [
    {
     "ename": "TypeError",
     "evalue": "ChildB.__init__() got multiple values for argument 'A'",
     "output_type": "error",
     "traceback": [
      "\u001b[0;31m---------------------------------------------------------------------------\u001b[0m",
      "\u001b[0;31mTypeError\u001b[0m                                 Traceback (most recent call last)",
      "Cell \u001b[0;32mIn[4], line 1\u001b[0m\n\u001b[0;32m----> 1\u001b[0m my_instance \u001b[38;5;241m=\u001b[39m \u001b[43mChildB\u001b[49m\u001b[43m(\u001b[49m\u001b[38;5;241;43m1\u001b[39;49m\u001b[43m,\u001b[49m\u001b[43m \u001b[49m\u001b[43mA\u001b[49m\u001b[38;5;241;43m=\u001b[39;49m\u001b[38;5;241;43m1\u001b[39;49m\u001b[43m,\u001b[49m\u001b[43m)\u001b[49m\n",
      "\u001b[0;31mTypeError\u001b[0m: ChildB.__init__() got multiple values for argument 'A'"
     ]
    }
   ],
   "source": [
    "my_instance = ChildB(1, A=1,)"
   ]
  },
  {
   "cell_type": "markdown",
   "metadata": {},
   "source": [
    "Less good, now lets also make the totally reasonable assertation that the argument A of'VeryIrritatingClass' is the same A as ChildA.\n",
    "\n",
    "We will need to rework substantially here."
   ]
  },
  {
   "cell_type": "code",
   "execution_count": 36,
   "metadata": {},
   "outputs": [
    {
     "name": "stdout",
     "output_type": "stream",
     "text": [
      "Entering ChildB.__init__\n",
      "Entering ChildA.__init__\n",
      "Enter MIBase.__init__\n",
      "Entering VeryIrritatingClass.__init__\n",
      "Exiting VeryIrritatingClass.__init__\n",
      "Exit MIBase.__init__\n",
      "Exiting ChildA.__init__\n",
      "Exiting ChildB.__init__\n",
      "3\n"
     ]
    }
   ],
   "source": [
    "class ChildB(ChildA, VeryIrritatingClass):\n",
    "    def __init__(self, *args, **kwargs):\n",
    "        \"\"\"\n",
    "        Args:\n",
    "            A: int\n",
    "        \"\"\"\n",
    "        print(\"Entering ChildB.__init__\")\n",
    "        # We can be sure that A is the only A passed in the **kwargs.\n",
    "        # We also know that A should never be passed in the *args but we can't enforce that\n",
    "        # without breaking the ability of our class to be used in multiple inheritance.\n",
    "        super().__init__(args[0], *args, **kwargs)\n",
    "        print(\"Exiting ChildB.__init__\")\n",
    "    \n",
    "    def modified_useful_method(self, B):\n",
    "        B = B + 1\n",
    "        return self.really_useful_method(B)\n",
    "\n",
    "my_instance = ChildB(1)\n",
    "print(my_instance.modified_useful_method(1))"
   ]
  },
  {
   "cell_type": "markdown",
   "metadata": {},
   "source": [
    "That works it relies on duplicating `A` which isn't ideal. \n",
    "It could also fall apart if more positional arguments were passed.\n",
    "Or just ramp in complexity, until the code becomes unworkable. \n",
    "This is multiple inheritance, **we should avoid it wherever possible**.\n",
    "\n",
    "The best thing to do in the above situation is to refactor to remove the positional A in the classes we control. \n",
    "Sticking with just `**kwargs` and documenting heavily is likely the preferred solution.\n",
    "\n",
    "### Aside\n",
    "It's also worth noting about examples and documentation you will find online: \n",
    "\n",
    "Some are [just wrong](https://dnmtechs.com/python-multiple-inheritance-passing-arguments-to-constructors-using-super-in-python-3/).\n",
    "\n",
    "Most is [overly simplistic](https://www.geeksforgeeks.org/multiple-inheritance-in-python/). \n",
    "Note this isn't bad and is an excellent primer on MRO and useful for mixins.\n",
    "\n",
    "Some is great but out of date, this is anything anything pre-python3, or stuff that follows pre-python3 logic but is written in python3.\n",
    "\n",
    "## Continuing\n",
    "However given we are assuming we have to use it. Lets explore a bit further.\n",
    "\n",
    "Not making any changes lets run some tests."
   ]
  },
  {
   "cell_type": "code",
   "execution_count": 40,
   "metadata": {},
   "outputs": [
    {
     "name": "stdout",
     "output_type": "stream",
     "text": [
      "Entering ChildB.__init__\n",
      "Entering ChildA.__init__\n",
      "Enter MIBase.__init__\n",
      "Entering VeryIrritatingClass.__init__\n",
      "Exiting VeryIrritatingClass.__init__\n",
      "Exit MIBase.__init__\n",
      "Exiting ChildA.__init__\n",
      "Exiting ChildB.__init__\n",
      "\n",
      "Using the methods and attributes of the class a=1\n",
      "1\n",
      "2\n",
      "3\n",
      "1\n",
      "\n",
      "Updating the value of a to 11\n",
      "1\n",
      "2\n",
      "3\n",
      "1\n"
     ]
    }
   ],
   "source": [
    "def run_tests(_my_instance):\n",
    "    print('\\nUsing the methods and attributes of the class a=1')\n",
    "    # Run through the methods and attributes of the class\n",
    "    print(_my_instance.a)\n",
    "    print(_my_instance.really_useful_method(1))\n",
    "    print(_my_instance.modified_useful_method(1))\n",
    "    print(_my_instance.method_that_uses_A())\n",
    "\n",
    "    print('\\nUpdating the value of a to 11')\n",
    "    # Now we can change the value of a\n",
    "    _my_instance.a = 11\n",
    "    print(_my_instance.a)\n",
    "    print(_my_instance.really_useful_method(1))\n",
    "    print(_my_instance.modified_useful_method(1))\n",
    "    print(_my_instance.method_that_uses_A())\n",
    "\n",
    "run_tests(ChildB(1))"
   ]
  },
  {
   "cell_type": "markdown",
   "metadata": {},
   "source": [
    "It's hopefully obvious that this is not what the intended behavior would/should be.\n",
    "\n",
    "The problem is that `VeryIrritatingClass` is using `_a` without a getters/setters.\n",
    "\n",
    "This is fine, usually a `_a` would have a getter/setter but we could also consider where it is just using a different naming scheme to the other branch of the inheritance.\n",
    "\n",
    "We can rectify this in a couple of ways.\n",
    "\n",
    "#### Modify ChildB"
   ]
  },
  {
   "cell_type": "code",
   "execution_count": 44,
   "metadata": {},
   "outputs": [
    {
     "name": "stdout",
     "output_type": "stream",
     "text": [
      "Entering ChildB.__init__\n",
      "Entering ChildA.__init__\n",
      "Enter MIBase.__init__\n",
      "Entering VeryIrritatingClass.__init__\n",
      "Exiting VeryIrritatingClass.__init__\n",
      "Exit MIBase.__init__\n",
      "Exiting ChildA.__init__\n",
      "Exiting ChildB.__init__\n",
      "\n",
      "Using the methods and attributes of the class a=1\n",
      "1\n",
      "2\n",
      "3\n",
      "1\n",
      "\n",
      "Updating the value of a to 11\n",
      "11\n",
      "12\n",
      "13\n",
      "11\n"
     ]
    }
   ],
   "source": [
    "class ChildB(ChildA, VeryIrritatingClass):\n",
    "    def __init__(self, *args, **kwargs):\n",
    "        \"\"\"\n",
    "        Args:\n",
    "            A: int\n",
    "        \"\"\"\n",
    "        print(\"Entering ChildB.__init__\")\n",
    "        # We can be sure that A is the only A passed in the **kwargs.\n",
    "        # We also know that A should never be passed in the *args but we can't enforce that\n",
    "        # without breaking the ability of our class to be used in multiple inheritance.\n",
    "        super().__init__(args[0], *args, **kwargs)\n",
    "        print(\"Exiting ChildB.__init__\")\n",
    "    \n",
    "    def modified_useful_method(self, B):\n",
    "        B = B + 1\n",
    "        return self.really_useful_method(B)\n",
    "    \n",
    "    # VeryIrritatingClass has an attribute called _a which is \n",
    "    # the same as the attribute a we want to use in ChildA\n",
    "    @property\n",
    "    def a(self):\n",
    "        return self._a\n",
    "    \n",
    "    @a.setter\n",
    "    def a(self, value):\n",
    "        self._a = value\n",
    "\n",
    "# Run the tests again\n",
    "run_tests(ChildB(1))"
   ]
  },
  {
   "cell_type": "markdown",
   "metadata": {},
   "source": [
    "#### Or we could create a Mixin to separate the code"
   ]
  },
  {
   "cell_type": "code",
   "execution_count": 45,
   "metadata": {},
   "outputs": [
    {
     "name": "stdout",
     "output_type": "stream",
     "text": [
      "Entering ChildB.__init__\n",
      "Entering ChildA.__init__\n",
      "Enter MIBase.__init__\n",
      "Entering VeryIrritatingClass.__init__\n",
      "Exiting VeryIrritatingClass.__init__\n",
      "Exit MIBase.__init__\n",
      "Exiting ChildA.__init__\n",
      "Exiting ChildB.__init__\n",
      "\n",
      "Using the methods and attributes of the class a=1\n",
      "1\n",
      "2\n",
      "3\n",
      "1\n",
      "\n",
      "Updating the value of a to 11\n",
      "11\n",
      "12\n",
      "13\n",
      "11\n"
     ]
    }
   ],
   "source": [
    "class aProp():\n",
    "    # Mixin to create a translation layer\n",
    "    # between the attribute _a in VeryIrritatingClass\n",
    "    # and the attribute a in ChildA\n",
    "    @property\n",
    "    def a(self):\n",
    "        return self._a\n",
    "    \n",
    "    @a.setter\n",
    "    def a(self, value):\n",
    "        self._a = value\n",
    "\n",
    "class ChildB(ChildA, VeryIrritatingClass, aProp):\n",
    "    def __init__(self, *args, **kwargs):\n",
    "        \"\"\"\n",
    "        Args:\n",
    "            A: int\n",
    "        \"\"\"\n",
    "        print(\"Entering ChildB.__init__\")\n",
    "        # We can be sure that A is the only A passed in the **kwargs.\n",
    "        # We also know that A should never be passed in the *args but we can't enforce that\n",
    "        # without breaking the ability of our class to be used in multiple inheritance.\n",
    "        super().__init__(args[0], *args, **kwargs)\n",
    "        print(\"Exiting ChildB.__init__\")\n",
    "    \n",
    "    def modified_useful_method(self, B):\n",
    "        B = B + 1\n",
    "        return self.really_useful_method(B)\n",
    "\n",
    "# Run the tests again\n",
    "run_tests(ChildB(1))"
   ]
  },
  {
   "cell_type": "markdown",
   "metadata": {},
   "source": [
    "### Assuming we have control of everything but VeryIrritatingClass\n",
    "\n",
    "Then it is likely better that we refactor."
   ]
  },
  {
   "cell_type": "code",
   "execution_count": null,
   "metadata": {},
   "outputs": [],
   "source": [
    "class ChildA(MIBase):\n",
    "    def __init__(self, **kwargs):\n",
    "        \"\"\"\n",
    "        Args:\n",
    "            A: int (keyword, required)\n",
    "        \"\"\" \n",
    "        print(\"Entering ChildA.__init__\")\n",
    "        self._a = kwargs['A']\n",
    "        super().__init__(**kwargs)\n",
    "        print(\"Exiting ChildA.__init__\")\n",
    "    \n",
    "    def method_that_uses_A(self):\n",
    "        return self.a\n",
    "\n",
    "class ChildB(ChildA, VeryIrritatingClass):\n",
    "    def __init__(self, **kwargs):\n",
    "        \"\"\"\n",
    "        Args:\n",
    "            A: int (keyword, required)\n",
    "        \"\"\"\n",
    "        print(\"Entering ChildB.__init__\")\n",
    "        super().__init__(**kwargs)\n",
    "        print(\"Exiting ChildB.__init__\")\n",
    "    def modified_useful_method(self, B):\n",
    "        B = B + 1\n",
    "        return self.really_useful_method(B)\n",
    "    \n",
    "my_instance = ChildB(1, 1)\n",
    "print(my_instance.modified_useful_method(1))\n",
    "print(my_instance.really_useful_method(1))\n"
   ]
  }
 ],
 "metadata": {
  "kernelspec": {
   "display_name": ".venv",
   "language": "python",
   "name": "python3"
  },
  "language_info": {
   "codemirror_mode": {
    "name": "ipython",
    "version": 3
   },
   "file_extension": ".py",
   "mimetype": "text/x-python",
   "name": "python",
   "nbconvert_exporter": "python",
   "pygments_lexer": "ipython3",
   "version": "3.13.1"
  }
 },
 "nbformat": 4,
 "nbformat_minor": 2
}
