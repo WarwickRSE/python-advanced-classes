{
 "cells": [
  {
   "cell_type": "markdown",
   "metadata": {},
   "source": [
    "# Multiple Inheritance in Python\n",
    "## Stuff we need to know:\n",
    "### What does super() do?\n",
    "### What is MRO?"
   ]
  },
  {
   "cell_type": "code",
   "execution_count": 1,
   "metadata": {},
   "outputs": [],
   "source": [
    "# This is our base class its already inheriting from object but we can omit that if we want\n",
    "\n",
    "class Base(object):\n",
    "    def __init__(self):\n",
    "        print('Enter Base.__init__')\n",
    "        self.base_message = 'Hello from base'\n",
    "        print('Exit Base.__init__')"
   ]
  },
  {
   "cell_type": "code",
   "execution_count": 2,
   "metadata": {},
   "outputs": [],
   "source": [
    "# This is a child class it inherits from the base class and we get a first look at the super() function\n",
    "\n",
    "class ChildA(Base):\n",
    "    def __init__(self):\n",
    "        print('Enter ChildA.__init__')\n",
    "        super().__init__()\n",
    "        self.child_message = 'Hello from child A'\n",
    "        print('Exit ChildA.__init__')"
   ]
  },
  {
   "cell_type": "code",
   "execution_count": 3,
   "metadata": {},
   "outputs": [
    {
     "name": "stdout",
     "output_type": "stream",
     "text": [
      "Enter ChildA.__init__\n",
      "Enter Base.__init__\n",
      "Exit Base.__init__\n",
      "Exit ChildA.__init__\n",
      "Hello from base\n",
      "Hello from child A\n"
     ]
    }
   ],
   "source": [
    "my_class = ChildA()\n",
    "print(my_class.base_message)\n",
    "print(my_class.child_message)"
   ]
  },
  {
   "cell_type": "markdown",
   "metadata": {},
   "source": [
    "Make note of the order here. This is important.\n",
    "\n",
    "### Hey, you said we were doing multiple inheritance!\n",
    "\n",
    "Okay, time to define another class that will add to the child."
   ]
  },
  {
   "cell_type": "code",
   "execution_count": 12,
   "metadata": {},
   "outputs": [],
   "source": [
    "class Other(object):\n",
    "    def __init__(self):\n",
    "        print('Enter Other.__init__')\n",
    "        self.other_message = \"Hello from other\"\n",
    "        print('Exit Other.__init__')"
   ]
  },
  {
   "cell_type": "code",
   "execution_count": 13,
   "metadata": {},
   "outputs": [],
   "source": [
    "class ChildB(Base, Other):\n",
    "    def __init__(self):\n",
    "        print('Enter ChildB.__init__')\n",
    "        super().__init__()\n",
    "        self.child_message = 'Hello from child B'\n",
    "        print('Exit ChildB.__init__')"
   ]
  },
  {
   "cell_type": "code",
   "execution_count": 14,
   "metadata": {},
   "outputs": [
    {
     "name": "stdout",
     "output_type": "stream",
     "text": [
      "Enter ChildB.__init__\n",
      "Enter Base.__init__\n",
      "Exit Base.__init__\n",
      "Exit ChildB.__init__\n",
      "Hello from base\n",
      "Hello from child B\n"
     ]
    },
    {
     "ename": "AttributeError",
     "evalue": "'ChildB' object has no attribute 'other_message'",
     "output_type": "error",
     "traceback": [
      "\u001b[0;31m---------------------------------------------------------------------------\u001b[0m",
      "\u001b[0;31mAttributeError\u001b[0m                            Traceback (most recent call last)",
      "Cell \u001b[0;32mIn[14], line 4\u001b[0m\n\u001b[1;32m      2\u001b[0m \u001b[38;5;28mprint\u001b[39m(my_class\u001b[38;5;241m.\u001b[39mbase_message)\n\u001b[1;32m      3\u001b[0m \u001b[38;5;28mprint\u001b[39m(my_class\u001b[38;5;241m.\u001b[39mchild_message)\n\u001b[0;32m----> 4\u001b[0m \u001b[38;5;28mprint\u001b[39m(\u001b[43mmy_class\u001b[49m\u001b[38;5;241;43m.\u001b[39;49m\u001b[43mother_message\u001b[49m)\n",
      "\u001b[0;31mAttributeError\u001b[0m: 'ChildB' object has no attribute 'other_message'"
     ]
    }
   ],
   "source": [
    "my_class = ChildB()\n",
    "print(my_class.base_message)\n",
    "print(my_class.child_message)\n",
    "print(my_class.other_message)"
   ]
  },
  {
   "cell_type": "markdown",
   "metadata": {},
   "source": [
    "Okay so that did not work. Lets try again."
   ]
  },
  {
   "cell_type": "code",
   "execution_count": 15,
   "metadata": {},
   "outputs": [
    {
     "name": "stdout",
     "output_type": "stream",
     "text": [
      "Enter ChildC.__init__\n",
      "Enter Other.__init__\n",
      "Exit Other.__init__\n",
      "Exit ChildC.__init__\n"
     ]
    },
    {
     "ename": "AttributeError",
     "evalue": "'ChildC' object has no attribute 'base_message'",
     "output_type": "error",
     "traceback": [
      "\u001b[0;31m---------------------------------------------------------------------------\u001b[0m",
      "\u001b[0;31mAttributeError\u001b[0m                            Traceback (most recent call last)",
      "Cell \u001b[0;32mIn[15], line 9\u001b[0m\n\u001b[1;32m      6\u001b[0m         \u001b[38;5;28mprint\u001b[39m(\u001b[38;5;124m'\u001b[39m\u001b[38;5;124mExit ChildC.__init__\u001b[39m\u001b[38;5;124m'\u001b[39m)\n\u001b[1;32m      8\u001b[0m my_class \u001b[38;5;241m=\u001b[39m ChildC()\n\u001b[0;32m----> 9\u001b[0m \u001b[38;5;28mprint\u001b[39m(\u001b[43mmy_class\u001b[49m\u001b[38;5;241;43m.\u001b[39;49m\u001b[43mbase_message\u001b[49m)\n\u001b[1;32m     10\u001b[0m \u001b[38;5;28mprint\u001b[39m(my_class\u001b[38;5;241m.\u001b[39mchild_message)\n\u001b[1;32m     11\u001b[0m \u001b[38;5;28mprint\u001b[39m(my_class\u001b[38;5;241m.\u001b[39mother_message)\n",
      "\u001b[0;31mAttributeError\u001b[0m: 'ChildC' object has no attribute 'base_message'"
     ]
    }
   ],
   "source": [
    "class ChildC(Other, Base):\n",
    "    def __init__(self):\n",
    "        print('Enter ChildC.__init__')\n",
    "        super().__init__()\n",
    "        self.child_message = 'Hello from child C'\n",
    "        print('Exit ChildC.__init__')\n",
    "\n",
    "my_class = ChildC()\n",
    "print(my_class.base_message)\n",
    "print(my_class.child_message)\n",
    "print(my_class.other_message)"
   ]
  },
  {
   "cell_type": "markdown",
   "metadata": {},
   "source": [
    "So whats going on?\n",
    "\n",
    "### MRO\n",
    "\n",
    "We need to look at method resolution order:\n"
   ]
  },
  {
   "cell_type": "code",
   "execution_count": 16,
   "metadata": {},
   "outputs": [
    {
     "name": "stdout",
     "output_type": "stream",
     "text": [
      "MRO of B: (<class '__main__.ChildB'>, <class '__main__.Base'>, <class '__main__.Other'>, <class 'object'>)\n",
      "MRO of C: (<class '__main__.ChildC'>, <class '__main__.Other'>, <class '__main__.Base'>, <class 'object'>)\n"
     ]
    }
   ],
   "source": [
    "print(f\"MRO of B: {ChildB.__mro__}\")\n",
    "print(f\"MRO of C: {ChildC.__mro__}\")"
   ]
  },
  {
   "cell_type": "markdown",
   "metadata": {},
   "source": [
    "So the `super()` is calling the MRO tree in order.\n",
    "Great lets add another!"
   ]
  },
  {
   "cell_type": "code",
   "execution_count": 17,
   "metadata": {},
   "outputs": [
    {
     "name": "stdout",
     "output_type": "stream",
     "text": [
      "Enter ChildD.__init__\n",
      "Enter Other.__init__\n",
      "Exit Other.__init__\n",
      "Enter Other.__init__\n",
      "Exit Other.__init__\n",
      "Exit ChildD.__init__\n"
     ]
    },
    {
     "ename": "AttributeError",
     "evalue": "'ChildD' object has no attribute 'base_message'",
     "output_type": "error",
     "traceback": [
      "\u001b[0;31m---------------------------------------------------------------------------\u001b[0m",
      "\u001b[0;31mAttributeError\u001b[0m                            Traceback (most recent call last)",
      "Cell \u001b[0;32mIn[17], line 10\u001b[0m\n\u001b[1;32m      7\u001b[0m         \u001b[38;5;28mprint\u001b[39m(\u001b[38;5;124m'\u001b[39m\u001b[38;5;124mExit ChildD.__init__\u001b[39m\u001b[38;5;124m'\u001b[39m)\n\u001b[1;32m      9\u001b[0m my_class \u001b[38;5;241m=\u001b[39m ChildD()\n\u001b[0;32m---> 10\u001b[0m \u001b[38;5;28mprint\u001b[39m(\u001b[43mmy_class\u001b[49m\u001b[38;5;241;43m.\u001b[39;49m\u001b[43mbase_message\u001b[49m)\n\u001b[1;32m     11\u001b[0m \u001b[38;5;28mprint\u001b[39m(my_class\u001b[38;5;241m.\u001b[39mchild_message)\n\u001b[1;32m     12\u001b[0m \u001b[38;5;28mprint\u001b[39m(my_class\u001b[38;5;241m.\u001b[39mother_message)\n",
      "\u001b[0;31mAttributeError\u001b[0m: 'ChildD' object has no attribute 'base_message'"
     ]
    }
   ],
   "source": [
    "class ChildD(Other, Base):\n",
    "    def __init__(self):\n",
    "        print('Enter ChildD.__init__')\n",
    "        super().__init__()\n",
    "        super().__init__()\n",
    "        self.child_message = 'Hello from child D'\n",
    "        print('Exit ChildD.__init__')\n",
    "\n",
    "my_class = ChildD()\n",
    "print(my_class.base_message)\n",
    "print(my_class.child_message)\n",
    "print(my_class.other_message)"
   ]
  },
  {
   "cell_type": "markdown",
   "metadata": {},
   "source": [
    "But it again does not work. \n",
    "\n",
    "The when in the `__init__` of D the next item in the MRO is other so super calls `Other.__init__` both times\n",
    "\n",
    "#### Making it work"
   ]
  },
  {
   "cell_type": "code",
   "execution_count": 20,
   "metadata": {},
   "outputs": [
    {
     "name": "stdout",
     "output_type": "stream",
     "text": [
      "Enter ChildE.__init__\n",
      "Enter SuperOther.__init__\n",
      "Enter Base.__init__\n",
      "Exit Base.__init__\n",
      "Exit SuperOther.__init__\n",
      "Exit ChildE.__init__\n",
      "Hello from base\n",
      "Hello from child D\n",
      "Hello from super-other\n"
     ]
    }
   ],
   "source": [
    "class SuperOther(object):\n",
    "    def __init__(self):\n",
    "        print('Enter SuperOther.__init__')\n",
    "        self.other_message = \"Hello from super-other\"\n",
    "        super().__init__()\n",
    "        print('Exit SuperOther.__init__')\n",
    "\n",
    "class ChildE(SuperOther, Base):\n",
    "    def __init__(self):\n",
    "        print('Enter ChildE.__init__')\n",
    "        super().__init__()\n",
    "        self.child_message = 'Hello from child D'\n",
    "        print('Exit ChildE.__init__')\n",
    "\n",
    "my_class = ChildE()\n",
    "print(my_class.base_message)\n",
    "print(my_class.child_message)\n",
    "print(my_class.other_message)"
   ]
  },
  {
   "cell_type": "markdown",
   "metadata": {},
   "source": [
    "Working but not ideal we would rather have base as the fist argument to establish that other is adding some stuff"
   ]
  },
  {
   "cell_type": "code",
   "execution_count": 21,
   "metadata": {},
   "outputs": [
    {
     "name": "stdout",
     "output_type": "stream",
     "text": [
      "Enter ChildF.__init__\n",
      "Enter Base.__init__\n",
      "Exit Base.__init__\n",
      "Exit ChildF.__init__\n",
      "Hello from base\n",
      "Hello from child F\n"
     ]
    },
    {
     "ename": "AttributeError",
     "evalue": "'ChildF' object has no attribute 'other_message'",
     "output_type": "error",
     "traceback": [
      "\u001b[0;31m---------------------------------------------------------------------------\u001b[0m",
      "\u001b[0;31mAttributeError\u001b[0m                            Traceback (most recent call last)",
      "Cell \u001b[0;32mIn[21], line 11\u001b[0m\n\u001b[1;32m      9\u001b[0m \u001b[38;5;28mprint\u001b[39m(my_class\u001b[38;5;241m.\u001b[39mbase_message)\n\u001b[1;32m     10\u001b[0m \u001b[38;5;28mprint\u001b[39m(my_class\u001b[38;5;241m.\u001b[39mchild_message)\n\u001b[0;32m---> 11\u001b[0m \u001b[38;5;28mprint\u001b[39m(\u001b[43mmy_class\u001b[49m\u001b[38;5;241;43m.\u001b[39;49m\u001b[43mother_message\u001b[49m)\n",
      "\u001b[0;31mAttributeError\u001b[0m: 'ChildF' object has no attribute 'other_message'"
     ]
    }
   ],
   "source": [
    "class ChildF(Base, SuperOther):\n",
    "    def __init__(self):\n",
    "        print('Enter ChildF.__init__')\n",
    "        super().__init__()\n",
    "        self.child_message = 'Hello from child F'\n",
    "        print('Exit ChildF.__init__')\n",
    "\n",
    "my_class = ChildF()\n",
    "print(my_class.base_message)\n",
    "print(my_class.child_message)\n",
    "print(my_class.other_message)"
   ]
  },
  {
   "cell_type": "markdown",
   "metadata": {},
   "source": [
    "But now it stops working again. \n",
    "\n",
    "You can add a debug point to the above and step though but from the above we can see that we enter and exit Base.\n",
    "\n",
    "Base has no super, it's a base. \n",
    "\n",
    "In this case, we could:"
   ]
  },
  {
   "cell_type": "code",
   "execution_count": 26,
   "metadata": {},
   "outputs": [
    {
     "name": "stdout",
     "output_type": "stream",
     "text": [
      "Enter ChildG.__init__\n",
      "Enter Base.__init__\n",
      "Exit Base.__init__\n",
      "Enter Other.__init__\n",
      "Exit Other.__init__\n",
      "Exit ChildG.__init__\n",
      "Hello from base\n",
      "Hello from child G\n",
      "Hello from other\n"
     ]
    }
   ],
   "source": [
    "class ChildG(Base, Other):\n",
    "    def __init__(self):\n",
    "        print('Enter ChildG.__init__')\n",
    "        super().__init__()\n",
    "        Other.__init__(self)\n",
    "        self.child_message = 'Hello from child G'\n",
    "        print('Exit ChildG.__init__')\n",
    "\n",
    "\n",
    "my_class = ChildG()\n",
    "print(my_class.base_message)\n",
    "print(my_class.child_message)\n",
    "print(my_class.other_message)"
   ]
  },
  {
   "cell_type": "markdown",
   "metadata": {},
   "source": [
    "Thats not all.\n",
    "\n",
    "The MRO and the position of supers determines what does or does not get initialized in `__init__`. We can be picky using named parent classes. However then things inheriting our class will break if they use a super. \n",
    "\n",
    "For completeness lets check what happens if we use SuperOther after Base."
   ]
  },
  {
   "cell_type": "code",
   "execution_count": 27,
   "metadata": {},
   "outputs": [
    {
     "name": "stdout",
     "output_type": "stream",
     "text": [
      "Enter ChildG.__init__\n",
      "Enter Base.__init__\n",
      "Exit Base.__init__\n",
      "Enter SuperOther.__init__\n",
      "Exit SuperOther.__init__\n",
      "Exit ChildG.__init__\n",
      "Hello from base\n",
      "Hello from child G\n",
      "Hello from super-other\n"
     ]
    }
   ],
   "source": [
    "class ChildG(Base, SuperOther):\n",
    "    def __init__(self):\n",
    "        print('Enter ChildG.__init__')\n",
    "        super().__init__()\n",
    "        SuperOther.__init__(self)\n",
    "        self.child_message = 'Hello from child G'\n",
    "        print('Exit ChildG.__init__')\n",
    "\n",
    "my_class = ChildG()\n",
    "print(my_class.base_message)\n",
    "print(my_class.child_message)\n",
    "print(my_class.other_message)"
   ]
  },
  {
   "cell_type": "markdown",
   "metadata": {},
   "source": [
    "Same behavior, unless `SuperOther` has it's own parents then it would follow that path for a bit."
   ]
  },
  {
   "cell_type": "markdown",
   "metadata": {},
   "source": [
    "Lets do a final check on one thing:"
   ]
  },
  {
   "cell_type": "code",
   "execution_count": 29,
   "metadata": {},
   "outputs": [
    {
     "name": "stdout",
     "output_type": "stream",
     "text": [
      "Enter ChildH.__init__\n",
      "Enter SuperBase.__init__\n",
      "Enter Other.__init__\n",
      "Exit Other.__init__\n",
      "Exit SuperBase.__init__\n",
      "Exit ChildH.__init__\n",
      "Hello from super base\n",
      "Hello from child H\n",
      "Hello from other\n"
     ]
    }
   ],
   "source": [
    "class SuperBase(object):\n",
    "    def __init__(self):\n",
    "        print('Enter SuperBase.__init__')\n",
    "        self.base_message = 'Hello from super base'\n",
    "        super().__init__()\n",
    "        print('Exit SuperBase.__init__')\n",
    "\n",
    "class ChildH(SuperBase, Other):\n",
    "    def __init__(self):\n",
    "        print('Enter ChildH.__init__')\n",
    "        super().__init__()\n",
    "        self.child_message = 'Hello from child H'\n",
    "        print('Exit ChildH.__init__')\n",
    "\n",
    "my_class = ChildH()\n",
    "print(my_class.base_message)\n",
    "print(my_class.child_message)\n",
    "print(my_class.other_message)"
   ]
  },
  {
   "cell_type": "markdown",
   "metadata": {},
   "source": [
    "By putting a `super()` call in base it manages to reach `Other`\n",
    "\n",
    "Check out the MRO."
   ]
  },
  {
   "cell_type": "code",
   "execution_count": 30,
   "metadata": {},
   "outputs": [
    {
     "name": "stdout",
     "output_type": "stream",
     "text": [
      "MRO of H: (<class '__main__.ChildH'>, <class '__main__.SuperBase'>, <class '__main__.Other'>, <class 'object'>)\n"
     ]
    }
   ],
   "source": [
    "print(f\"MRO of H: {ChildH.__mro__}\")"
   ]
  },
  {
   "cell_type": "markdown",
   "metadata": {},
   "source": [
    "Fantastic but why did it not call object first?\n",
    "\n",
    "MRO puts the 'lowest common denominator' at the end of the resolution. All our classes relied on object so it goes last!"
   ]
  },
  {
   "cell_type": "code",
   "execution_count": 33,
   "metadata": {},
   "outputs": [
    {
     "name": "stdout",
     "output_type": "stream",
     "text": [
      "Enter ChildI.__init__\n",
      "Enter SuperBase.__init__\n",
      "Enter ObjectlessOther.__init__\n",
      "Exit ObjectlessOther.__init__\n",
      "Exit SuperBase.__init__\n",
      "Exit ChildI.__init__\n",
      "Hello from super base\n",
      "Hello from child I\n",
      "Hello from objectless other\n",
      "MRO of I: (<class '__main__.ChildI'>, <class '__main__.SuperBase'>, <class '__main__.ObjectlessOther'>, <class 'object'>)\n",
      "MRO of ObjectlessOther: (<class '__main__.ObjectlessOther'>, <class 'object'>)\n"
     ]
    }
   ],
   "source": [
    "class ObjectlessOther():\n",
    "    def __init__(self):\n",
    "        print('Enter ObjectlessOther.__init__')\n",
    "        self.other_message = \"Hello from objectless other\"\n",
    "        print('Exit ObjectlessOther.__init__')\n",
    "\n",
    "class ChildI(SuperBase, ObjectlessOther):\n",
    "    def __init__(self):\n",
    "        print('Enter ChildI.__init__')\n",
    "        super().__init__()\n",
    "        self.child_message = 'Hello from child I'\n",
    "        print('Exit ChildI.__init__')\n",
    "\n",
    "my_class = ChildI()\n",
    "print(my_class.base_message)\n",
    "print(my_class.child_message)\n",
    "print(my_class.other_message)\n",
    "print(f\"MRO of I: {ChildI.__mro__}\")\n",
    "print(f\"MRO of ObjectlessOther: {ObjectlessOther.__mro__}\")"
   ]
  },
  {
   "cell_type": "markdown",
   "metadata": {},
   "source": [
    "Even a Class without object has object!\n",
    "\n",
    "\n",
    "## Reviewing our learning objectives\n",
    "### What does super() do?\n",
    "\n",
    "`super` is a super way to call the next item in the Method Resolution Order (MRO)\n",
    "\n",
    "### What is MRO?\n",
    "\n",
    "MRO is method resolution order, or the order in which Python will look for items. \n",
    "\n",
    "## All together\n",
    "\n",
    "As a combo super and MRO are commonly utilized in Classes in `__init__` (or 'dunder') methods when one class wants to access the `__init__` of it's parent, or as we have shown parents.\n",
    "\n",
    "The MRO is determined by the 'C3 Linearization algorithm'.\n",
    "\n",
    "\"Basically, the idea behind C3 is that if you write down all of the ordering rules imposed by inheritance relationships in a complex class hierarchy, the algorithm will determine a monotonic ordering of the classes that satisfies all of them. If such an ordering can not be determined, the algorithm will fail.\" - [GVR](http://python-history.blogspot.com/2010/06/method-resolution-order.html)"
   ]
  },
  {
   "cell_type": "markdown",
   "metadata": {},
   "source": [
    "# Wait you said commonly utilized and dunder\n",
    "\n",
    "Yes.\n",
    "\n",
    "Super is far more powerful and if we are writing a package of significant complexity then we should know more.\n",
    "\n",
    "Next notebook please."
   ]
  }
 ],
 "metadata": {
  "kernelspec": {
   "display_name": ".venv",
   "language": "python",
   "name": "python3"
  },
  "language_info": {
   "codemirror_mode": {
    "name": "ipython",
    "version": 3
   },
   "file_extension": ".py",
   "mimetype": "text/x-python",
   "name": "python",
   "nbconvert_exporter": "python",
   "pygments_lexer": "ipython3",
   "version": "3.13.1"
  }
 },
 "nbformat": 4,
 "nbformat_minor": 2
}
