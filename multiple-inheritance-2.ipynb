{
 "cells": [
  {
   "cell_type": "markdown",
   "metadata": {
    "vscode": {
     "languageId": "plaintext"
    }
   },
   "source": [
    "# Using super and the MRO to make things work for you.\n",
    "\n",
    "I've defined Base and SuperBase in `helpers.py`, so they can be imported other classes we will redefine. \n",
    "\n",
    "Base for our purpose is just `object` that prints its own name. We expect to see it so we know when the very bottom of certain paths gets hit.\n",
    "\n",
    "## Multiple inheritance with multiple arguments\n",
    "\n",
    "The previous examples didn't give arguments to their `__init__` lets correct that."
   ]
  },
  {
   "cell_type": "code",
   "execution_count": 2,
   "metadata": {},
   "outputs": [],
   "source": [
    "from helpers import Base, SuperBase"
   ]
  },
  {
   "cell_type": "code",
   "execution_count": 4,
   "metadata": {},
   "outputs": [
    {
     "name": "stdout",
     "output_type": "stream",
     "text": [
      "Enter ChildB.__init__\n",
      "Enter ChildA.__init__\n",
      "Enter SuperBase.__init__\n",
      "Exit SuperBase.__init__\n",
      "Exit ChildA.__init__\n",
      "Exit ChildB.__init__\n",
      "ChildB.my_arg: 2\n"
     ]
    }
   ],
   "source": [
    "class ChildA(SuperBase):\n",
    "    def __init__(self, A):\n",
    "        print('Enter ChildA.__init__')\n",
    "        self.a = A\n",
    "        super().__init__()\n",
    "        print('Exit ChildA.__init__')\n",
    "    \n",
    "    def my_arg(self):\n",
    "        print(f'ChildA.my_arg: {self.a}')\n",
    "\n",
    "class ChildB(ChildA):\n",
    "    def __init__(self, A, B):\n",
    "        print('Enter ChildB.__init__')\n",
    "        self.b = B\n",
    "        super().__init__(A)\n",
    "        print('Exit ChildB.__init__')\n",
    "\n",
    "    def my_arg(self):\n",
    "        print(f'ChildB.my_arg: {self.b}')\n",
    "\n",
    "my_class = ChildB(1, 2)\n",
    "my_class.my_arg()"
   ]
  },
  {
   "cell_type": "markdown",
   "metadata": {},
   "source": [
    "During that process which we could have continued 'turtles all the way down' we made ChildB inherit ChildA. Child B has attributes a and b, but the method my_arg uses only that defined by ChildB. Enter super."
   ]
  },
  {
   "cell_type": "code",
   "execution_count": 6,
   "metadata": {},
   "outputs": [
    {
     "name": "stdout",
     "output_type": "stream",
     "text": [
      "Enter ChildC.__init__\n",
      "Enter ChildA.__init__\n",
      "Enter SuperBase.__init__\n",
      "Exit SuperBase.__init__\n",
      "Exit ChildA.__init__\n",
      "Exit ChildC.__init__\n",
      "ChildC.my_arg: 3\n",
      "ChildA.my_arg: 1\n"
     ]
    }
   ],
   "source": [
    "class ChildC(ChildA):\n",
    "    def __init__(self, A, C):\n",
    "        print('Enter ChildC.__init__')\n",
    "        self.c = C\n",
    "        super().__init__(A)\n",
    "        print('Exit ChildC.__init__')\n",
    "\n",
    "    def my_arg(self):\n",
    "        print(f'ChildC.my_arg: {self.c}')\n",
    "        super().my_arg()\n",
    "\n",
    "my_class = ChildC(1, 3)\n",
    "my_class.my_arg()"
   ]
  },
  {
   "cell_type": "markdown",
   "metadata": {},
   "source": [
    "The ability to run that code was not lost just tucked away in a super, a super just looks for the next definition of the requested function name in the MRO.\n",
    "\n",
    "In fact in the `__init__` method the number of arguments is being whittled away from 2 to 1 but you can do this quite creatively a complex class with lots of `__init__` arguments may quite quickly split them up into multiple inherited `__init__`."
   ]
  },
  {
   "cell_type": "code",
   "execution_count": 7,
   "metadata": {},
   "outputs": [
    {
     "name": "stdout",
     "output_type": "stream",
     "text": [
      "Enter ChildD.__init__\n",
      "Exit ChildD.__init__\n",
      "ChildD.my_arg: 4\n",
      "Enter ChildA.__init__\n",
      "Enter SuperBase.__init__\n",
      "Exit SuperBase.__init__\n",
      "Exit ChildA.__init__\n",
      "ChildA.my_arg: 1\n"
     ]
    }
   ],
   "source": [
    "# The super looks for the next definition of the method in the MRO\n",
    "# We shouldn't but could get weird with that.\n",
    "\n",
    "class ChildD(ChildA):\n",
    "    def __init__(self, A, D):\n",
    "        print('Enter ChildD.__init__')\n",
    "        self.d = D\n",
    "        self._a = A\n",
    "        print('Exit ChildD.__init__')\n",
    "\n",
    "    def my_arg(self):\n",
    "        print(f'ChildD.my_arg: {self.d}')\n",
    "        super().__init__(self._a)\n",
    "        super().my_arg()\n",
    "\n",
    "my_class = ChildD(1, 4)\n",
    "my_class.my_arg()"
   ]
  },
  {
   "cell_type": "markdown",
   "metadata": {},
   "source": [
    "### That was grim, and confusing.\n",
    "\n",
    "Let's make it worse!"
   ]
  },
  {
   "cell_type": "code",
   "execution_count": 13,
   "metadata": {},
   "outputs": [
    {
     "name": "stdout",
     "output_type": "stream",
     "text": [
      "Enter ChildF.__init__\n",
      "Enter ChildE.__init__\n",
      "Enter ChildA.__init__\n",
      "Enter SuperBase.__init__\n",
      "Exit SuperBase.__init__\n",
      "Exit ChildA.__init__\n",
      "Exit ChildE.__init__\n",
      "Exit ChildF.__init__\n",
      "ChildF.my_arg: 6\n",
      "ChildA.my_arg: 1\n",
      "ChildF MRO:(<class '__main__.ChildF'>, <class '__main__.ChildE'>, <class '__main__.ChildA'>, <class 'helpers.SuperBase'>, <class 'object'>)\n"
     ]
    }
   ],
   "source": [
    "class ChildE(ChildA):\n",
    "    def __init__(self, A, E):\n",
    "        print('Enter ChildE.__init__')\n",
    "        self.e = E\n",
    "        super().__init__(A)\n",
    "        print('Exit ChildE.__init__')\n",
    "\n",
    "class ChildF(ChildE):\n",
    "    def __init__(self, A, E, F):\n",
    "        print('Enter ChildF.__init__')\n",
    "        self.f = F\n",
    "        super().__init__(A, E)\n",
    "        print('Exit ChildF.__init__')\n",
    "    \n",
    "    def my_arg(self):\n",
    "        print(f'ChildF.my_arg: {self.f}')\n",
    "        super().my_arg()\n",
    "\n",
    "my_class = ChildF(1, 5, 6)\n",
    "my_class.my_arg()\n",
    "\n",
    "print(f\"ChildF MRO:{ChildF.__mro__}\")"
   ]
  },
  {
   "cell_type": "markdown",
   "metadata": {},
   "source": [
    "## Wait, what?\n",
    "\n",
    "`super` just jumped child E and went to A I thought it was accessing the parent!?\n",
    "\n",
    "No super searches MRO in order until it finds that method. If you are familiar with `PATH` resolution then you can intuit this the same way. If you are unfamiliar with `PATH` resolution you just learnt two things!"
   ]
  },
  {
   "cell_type": "markdown",
   "metadata": {},
   "source": [
    "# Get back to multiple inheritance please.\n",
    "\n",
    "The next step is likely figuring out how the correct input variables make it to the correct `__init__` methods.\n",
    "\n",
    "Starting with a design lets say we want this:\n",
    "\n",
    "% TODO: Make Figure"
   ]
  },
  {
   "cell_type": "code",
   "execution_count": null,
   "metadata": {},
   "outputs": [],
   "source": []
  },
  {
   "cell_type": "code",
   "execution_count": null,
   "metadata": {},
   "outputs": [],
   "source": []
  }
 ],
 "metadata": {
  "kernelspec": {
   "display_name": ".venv",
   "language": "python",
   "name": "python3"
  },
  "language_info": {
   "codemirror_mode": {
    "name": "ipython",
    "version": 3
   },
   "file_extension": ".py",
   "mimetype": "text/x-python",
   "name": "python",
   "nbconvert_exporter": "python",
   "pygments_lexer": "ipython3",
   "version": "3.13.1"
  }
 },
 "nbformat": 4,
 "nbformat_minor": 2
}
